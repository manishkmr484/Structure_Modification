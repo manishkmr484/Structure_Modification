{
 "cells": [
  {
   "cell_type": "code",
   "execution_count": null,
   "metadata": {},
   "outputs": [],
   "source": []
  },
  {
   "cell_type": "code",
   "execution_count": 4,
   "metadata": {},
   "outputs": [
    {
     "name": "stdout",
     "output_type": "stream",
     "text": [
      "Original cell (hexagonal):\n",
      "Cell([[2.46729, 0.0, 0.0], [1.23365, 2.13674, 0.0], [0.0, 0.0, 7.80307]])\n",
      "Transformed cell (rectangular):\n",
      "Cell([[3.70094, 2.13674, 0.0], [-1.2336400000000003, 2.13674, 0.0], [0.0, 0.0, 7.80307]])\n",
      "Dot product of new a and b: 0.000030 (should be close to 0 for rectangular)\n",
      "Rectangular structure saved to POSCAR_rectangular.vasp\n"
     ]
    }
   ],
   "source": [
    "import numpy as np\n",
    "from ase.io import read, write\n",
    "from ase.build import make_supercell\n",
    "\n",
    "def hexagonal_to_rectangular(input_file='POSCAR1.vasp', output_file='POSCAR_rectangular.vasp'):\n",
    "    # Read the hexagonal structure from POSCAR1.vasp\n",
    "    try:\n",
    "        atoms = read(input_file, format='vasp')\n",
    "        print(f\"Original cell (hexagonal):\\n{atoms.cell}\")\n",
    "    except FileNotFoundError:\n",
    "        print(f\"Error: {input_file} not found.\")\n",
    "        return\n",
    "    \n",
    "    # Original hexagonal lattice vectors\n",
    "    cell = atoms.cell\n",
    "    a1 = cell[0]  # e.g., [a, 0, 0]\n",
    "    a2 = cell[1]  # e.g., [a/2, a√3/2, 0]\n",
    "    a3 = cell[2]  # e.g., [0, 0, c]\n",
    "\n",
    "    # Define the transformation matrix based on (1,1) and (-1,1)\n",
    "    transform_matrix = np.array([\n",
    "        [1, 1, 0],  # a' = a1 + a2\n",
    "        [-1, 1, 0], # b' = -a1 + a2\n",
    "        [0, 0, 1]   # c' = a3 (unchanged)\n",
    "    ])\n",
    "\n",
    "    # Create the supercell\n",
    "    rectangular_atoms = make_supercell(atoms, transform_matrix)\n",
    "\n",
    "    # Verify the new cell is rectangular\n",
    "    new_cell = rectangular_atoms.cell\n",
    "    print(f\"Transformed cell (rectangular):\\n{new_cell}\")\n",
    "    \n",
    "    # Check orthogonality (dot product of a and b should be ~0)\n",
    "    dot_product = np.dot(new_cell[0], new_cell[1])\n",
    "    print(f\"Dot product of new a and b: {dot_product:.6f} (should be close to 0 for rectangular)\")\n",
    "\n",
    "    # Write the rectangular structure to a new POSCAR file\n",
    "    write(output_file, rectangular_atoms, format='vasp', vasp5=True, direct=False)\n",
    "    print(f\"Rectangular structure saved to {output_file}\")\n",
    "\n",
    "if __name__ == '__main__':\n",
    "    hexagonal_to_rectangular()"
   ]
  }
 ],
 "metadata": {
  "kernelspec": {
   "display_name": "base",
   "language": "python",
   "name": "python3"
  },
  "language_info": {
   "codemirror_mode": {
    "name": "ipython",
    "version": 3
   },
   "file_extension": ".py",
   "mimetype": "text/x-python",
   "name": "python",
   "nbconvert_exporter": "python",
   "pygments_lexer": "ipython3",
   "version": "3.12.3"
  }
 },
 "nbformat": 4,
 "nbformat_minor": 2
}
