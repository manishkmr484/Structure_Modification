{
 "cells": [
  {
   "cell_type": "code",
   "execution_count": null,
   "id": "c7f8a3a5",
   "metadata": {},
   "outputs": [],
   "source": []
  },
  {
   "cell_type": "code",
   "execution_count": null,
   "id": "9ae041b0",
   "metadata": {},
   "outputs": [],
   "source": [
    "from ase.io import read, write\n",
    "import numpy as np\n",
    "\n",
    "# Load the monolayer structure from a POSCAR file\n",
    "structure = read('POSCAR')\n",
    "\n",
    "# Ensure the coordinates are in Cartesian (POSCAR can be Direct or Cartesian; this confirms Cartesian)\n",
    "structure.set_scaled_positions(structure.get_scaled_positions())  # Convert to Cartesian if needed\n",
    "\n",
    "# Get the atomic positions and cell parameters\n",
    "positions = structure.get_positions()\n",
    "cell = structure.get_cell()\n",
    "\n",
    "# Calculate the center of the cell along the z-axis\n",
    "z_cell_center = cell[2, 2] / 2.0  # z-dimension of the cell\n",
    "\n",
    "# Calculate the average z-coordinate of the atoms (geometric center)\n",
    "z_avg = np.mean(positions[:, 2])\n",
    "\n",
    "# Calculate the shift needed to center the monolayer\n",
    "z_shift = z_cell_center - z_avg\n",
    "\n",
    "# Apply the shift to the z-coordinates of all atoms\n",
    "positions[:, 2] += z_shift\n",
    "\n",
    "# Update the structure with the new positions\n",
    "structure.set_positions(positions)\n",
    "\n",
    "# Save the centered structure to a new POSCAR file\n",
    "write('POSCAR_centered', structure, format='vasp', vasp5=True, direct=False)\n",
    "\n",
    "print(f\"Monolayer centered along z-axis. Shift applied: {z_shift:.4f} Å\")"
   ]
  }
 ],
 "metadata": {
  "language_info": {
   "name": "python"
  }
 },
 "nbformat": 4,
 "nbformat_minor": 5
}
