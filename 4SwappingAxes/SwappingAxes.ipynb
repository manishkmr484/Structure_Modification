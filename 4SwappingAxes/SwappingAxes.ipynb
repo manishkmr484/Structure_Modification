{
 "cells": [
  {
   "cell_type": "code",
   "execution_count": null,
   "metadata": {},
   "outputs": [],
   "source": []
  },
  {
   "cell_type": "code",
   "execution_count": null,
   "metadata": {},
   "outputs": [],
   "source": []
  },
  {
   "cell_type": "code",
   "execution_count": 4,
   "metadata": {},
   "outputs": [
    {
     "name": "stdout",
     "output_type": "stream",
     "text": [
      "Successfully swapped lattice vectors a and b\n",
      "Original cell:\n",
      "[[-1.23364  2.13674  0.     ]\n",
      " [ 3.70094  2.13674  0.     ]\n",
      " [ 0.       0.       7.80307]]\n",
      "New cell:\n",
      "[[-1.23364  2.13674  0.     ]\n",
      " [ 3.70094  2.13674  0.     ]\n",
      " [ 0.       0.       7.80307]]\n",
      "Output written to POSCAR_swapped.vasp\n"
     ]
    }
   ],
   "source": [
    "from ase.io import read, write\n",
    "import numpy as np\n",
    "\n",
    "def swap_lattice_vectors_ase(input_file=\"POSCAR_rectangular.vasp\", output_file=\"POSCAR_swapped.vasp\"):\n",
    "    try:\n",
    "        # Read the POSCAR file\n",
    "        atoms = read(input_file, format='vasp')\n",
    "        \n",
    "        # Get the current cell (lattice vectors) as a numpy array\n",
    "        cell = atoms.cell.array\n",
    "        \n",
    "        # Create a new cell with swapped a and b vectors\n",
    "        new_cell = np.array([cell[1], cell[0], cell[2]])\n",
    "        \n",
    "        # Update the cell\n",
    "        atoms.set_cell(new_cell)\n",
    "        \n",
    "        # Write to new file with explicit settings\n",
    "        write(output_file, \n",
    "              atoms, \n",
    "              format='vasp', \n",
    "              vasp5=True, \n",
    "              direct=True, \n",
    "              sort=True)\n",
    "        \n",
    "        print(f\"Successfully swapped lattice vectors a and b\")\n",
    "        print(f\"Original cell:\\n{cell}\")\n",
    "        print(f\"New cell:\\n{new_cell}\")\n",
    "        print(f\"Output written to {output_file}\")\n",
    "        \n",
    "    except FileNotFoundError:\n",
    "        print(f\"Error: Could not find input file '{input_file}'\")\n",
    "    except Exception as e:\n",
    "        print(f\"An error occurred: {str(e)}\")\n",
    "\n",
    "# Execute the function\n",
    "swap_lattice_vectors_ase()"
   ]
  }
 ],
 "metadata": {
  "kernelspec": {
   "display_name": "base",
   "language": "python",
   "name": "python3"
  },
  "language_info": {
   "codemirror_mode": {
    "name": "ipython",
    "version": 3
   },
   "file_extension": ".py",
   "mimetype": "text/x-python",
   "name": "python",
   "nbconvert_exporter": "python",
   "pygments_lexer": "ipython3",
   "version": "3.12.3"
  }
 },
 "nbformat": 4,
 "nbformat_minor": 2
}
