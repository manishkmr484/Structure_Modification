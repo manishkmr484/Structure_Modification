{
 "cells": [
  {
   "cell_type": "code",
   "execution_count": null,
   "metadata": {},
   "outputs": [],
   "source": []
  },
  {
   "cell_type": "code",
   "execution_count": null,
   "metadata": {},
   "outputs": [],
   "source": [
    "## irootj by irootj supercell"
   ]
  },
  {
   "cell_type": "code",
   "execution_count": null,
   "metadata": {},
   "outputs": [
    {
     "name": "stdout",
     "output_type": "stream",
     "text": [
      "Written: supercell_1root3_by_1root3.vasp\n"
     ]
    }
   ],
   "source": [
    "from ase.io import read, write\n",
    "from ase.build import make_supercell\n",
    "import numpy as np\n",
    "\n",
    "def get_transformation_matrix(i, j):\n",
    "    if j == 3:\n",
    "        # √3 × √3 transformation matrix\n",
    "        root3_matrix = np.array([[2, -1], [1, 1]])\n",
    "        return i * root3_matrix\n",
    "    elif j == 2:\n",
    "        # √2 × √2 transformation matrix\n",
    "        root2_matrix = np.array([[1, 1], [-1, 1]])\n",
    "        return i * root2_matrix\n",
    "    else:\n",
    "        raise ValueError(\"Only j = 2 or j = 3 are supported.\")\n",
    "\n",
    "def build_supercell(poscar_file, i, j):\n",
    "    # Read the original structure\n",
    "    atoms = read(poscar_file)\n",
    "\n",
    "    # Create the full 3x3 transformation matrix\n",
    "    tmat_2d = get_transformation_matrix(i, j)\n",
    "    tmat = np.identity(3, dtype=int)\n",
    "    tmat[:2, :2] = tmat_2d  # Fill xy part\n",
    "\n",
    "    # Build supercell using make_supercell\n",
    "    supercell = make_supercell(atoms, tmat)\n",
    "\n",
    "    # Save result\n",
    "    output_filename = f\"POSCAR_{i}root{j}_by_{i}root{j}.vasp\"\n",
    "    write(output_filename, supercell, format='vasp', direct=True)\n",
    "    print(f\"Written: {output_filename}\")\n",
    "\n",
    "# -------------------------------\n",
    "# Manual Input Section\n",
    "# -------------------------------\n",
    "if __name__ == \"__main__\":\n",
    "    i = 1  # Change as needed   1,2,3,4,5,6 or any other\n",
    "    j = 3  # Change as needed (only 2 or 3 supported)\n",
    "    build_supercell(\"POSCAR1.vasp\", i, j)\n"
   ]
  },
  {
   "cell_type": "code",
   "execution_count": null,
   "metadata": {},
   "outputs": [],
   "source": []
  },
  {
   "cell_type": "code",
   "execution_count": null,
   "metadata": {},
   "outputs": [],
   "source": []
  },
  {
   "cell_type": "code",
   "execution_count": null,
   "metadata": {},
   "outputs": [],
   "source": [
    "##root3 by root3 supercell"
   ]
  },
  {
   "cell_type": "code",
   "execution_count": null,
   "metadata": {},
   "outputs": [],
   "source": [
    "## direct=True give fractional coordinates\n",
    "## direct=False give cartesian coordinates\n",
    "\n",
    "\n",
    "from ase.io import read, write\n",
    "from ase.build import make_supercell\n",
    "import numpy as np\n",
    "\n",
    "# Create or read your original graphene unit cell\n",
    "# If you already have a POSCAR, use:\n",
    "atoms = read('POSCAR1.vasp')\n",
    "\n",
    "\n",
    "\n",
    "# Create √3×√3 supercell transformation matrix\n",
    "supercell_matrix = np.array([\n",
    "    [1, 1, 0],\n",
    "    [-1, 2, 0],\n",
    "    [0, 0, 1]\n",
    "])\n",
    "\n",
    "# Apply the supercell transformation\n",
    "supercell = make_supercell(atoms, supercell_matrix)\n",
    "\n",
    "# Write the new POSCAR\n",
    "write('POSCAR_supercell', supercell, format='vasp', direct=False)    ## direct=True give fractional coordinates\n",
    "\n",
    "print(\"√3×√3 supercell created successfully!\")"
   ]
  },
  {
   "cell_type": "code",
   "execution_count": null,
   "metadata": {},
   "outputs": [],
   "source": []
  },
  {
   "cell_type": "code",
   "execution_count": null,
   "metadata": {},
   "outputs": [],
   "source": [
    "## For root by root"
   ]
  },
  {
   "cell_type": "code",
   "execution_count": null,
   "metadata": {},
   "outputs": [
    {
     "name": "stdout",
     "output_type": "stream",
     "text": [
      "√2×√2 supercell created successfully!\n"
     ]
    }
   ],
   "source": [
    "## direct=True give fractional coordinates\n",
    "## direct=False give cartesian coordinates\n",
    "\n",
    "\n",
    "from ase.io import read, write\n",
    "from ase.build import make_supercell\n",
    "import numpy as np\n",
    "\n",
    "# Load your original graphene POSCAR\n",
    "atoms = read('POSCAR1.vasp')  # or create a unit cell as shown previously\n",
    "\n",
    "# Create √2×√2 supercell transformation matrix\n",
    "# This works for the conventional rectangular unit cell\n",
    "supercell_matrix = np.array([\n",
    "    [1, -1, 0],  # or [1, 1, 0] depending on your unit cell orientation\n",
    "    [1,  1, 0],  # or [1, -1, 0]\n",
    "    [0,  0, 1]\n",
    "])\n",
    "\n",
    "# Apply the supercell transformation\n",
    "supercell = make_supercell(atoms, supercell_matrix)\n",
    "\n",
    "# Write the new POSCAR\n",
    "write('POSCAR_sqrt2xsqrt2', supercell, format='vasp', direct=True)\n",
    "\n",
    "print(\"√2×√2 supercell created successfully!\")"
   ]
  },
  {
   "cell_type": "code",
   "execution_count": null,
   "metadata": {},
   "outputs": [],
   "source": []
  },
  {
   "cell_type": "code",
   "execution_count": null,
   "metadata": {},
   "outputs": [],
   "source": [
    "## Any supercell"
   ]
  },
  {
   "cell_type": "code",
   "execution_count": null,
   "metadata": {},
   "outputs": [
    {
     "name": "stdout",
     "output_type": "stream",
     "text": [
      "Original unit cell read successfully from POSCAR1.vasp\n",
      "4×4 supercell created and written to POSCAR_4x4_supercell.vasp successfully!\n"
     ]
    }
   ],
   "source": [
    "## direct=True give fractional coordinates\n",
    "## direct=False give cartesian coordinates\n",
    "\n",
    "\n",
    "from ase.io import read, write\n",
    "from ase.build import make_supercell\n",
    "import numpy as np\n",
    "\n",
    "# Read the original unit cell from POSCAR1.vasp\n",
    "try:\n",
    "    atoms = read('POSCAR1.vasp')\n",
    "    print(\"Original unit cell read successfully from POSCAR1.vasp\")\n",
    "except FileNotFoundError:\n",
    "    print(\"Error: POSCAR1.vasp not found!\")\n",
    "    exit(1)\n",
    "except Exception as e:\n",
    "    print(f\"Error reading POSCAR1.vasp: {e}\")\n",
    "    exit(1)\n",
    "\n",
    "# Define the 4×4 supercell transformation matrix\n",
    "# This scales the a and b lattice vectors by 4, leaving c unchanged\n",
    "supercell_matrix = np.array([\n",
    "    [4, 0, 0],  # 4× along a\n",
    "    [0, 4, 0],  # 4× along b\n",
    "    [0, 0, 1]   # 1× along c (unchanged)\n",
    "])\n",
    "\n",
    "# Apply the supercell transformation\n",
    "supercell = make_supercell(atoms, supercell_matrix)\n",
    "\n",
    "# Write the new POSCAR file\n",
    "try:\n",
    "    write('POSCAR1_4x4_supercell.vasp', supercell, format='vasp', direct=False)   ## sort=True can be used\n",
    "    print(\"4×4 supercell created and written to POSCAR_4x4_supercell.vasp successfully!\")\n",
    "except Exception as e:\n",
    "    print(f\"Error writing supercell POSCAR: {e}\")\n",
    "    exit(1)"
   ]
  },
  {
   "cell_type": "code",
   "execution_count": 3,
   "metadata": {},
   "outputs": [
    {
     "name": "stdout",
     "output_type": "stream",
     "text": [
      "Original unit cell read successfully from POSCAR1.vasp\n",
      "4×4 supercell created and written to POSCAR_4x4_supercell.vasp successfully!\n"
     ]
    }
   ],
   "source": [
    "from ase.io import read, write\n",
    "from ase.build import make_supercell\n",
    "import numpy as np\n",
    "\n",
    "# Read the original unit cell from POSCAR1.vasp\n",
    "try:\n",
    "    atoms = read('POSCAR2.vasp')\n",
    "    print(\"Original unit cell read successfully from POSCAR1.vasp\")\n",
    "except FileNotFoundError:\n",
    "    print(\"Error: POSCAR2.vasp not found!\")\n",
    "    exit(1)\n",
    "except Exception as e:\n",
    "    print(f\"Error reading POSCAR1.vasp: {e}\")\n",
    "    exit(1)\n",
    "\n",
    "# Define the 4×4 supercell transformation matrix\n",
    "# This scales the a and b lattice vectors by 4, leaving c unchanged\n",
    "supercell_matrix = np.array([\n",
    "    [3, 0, 0],  # 4× along a\n",
    "    [0, 3, 0],  # 4× along b\n",
    "    [0, 0, 1]   # 1× along c (unchanged)\n",
    "])\n",
    "\n",
    "# Apply the supercell transformation\n",
    "supercell = make_supercell(atoms, supercell_matrix)\n",
    "\n",
    "# Write the new POSCAR file\n",
    "try:\n",
    "    write('POSCAR2_3x3_supercell.vasp', supercell, format='vasp', direct=True)\n",
    "    print(\"4×4 supercell created and written to POSCAR_4x4_supercell.vasp successfully!\")\n",
    "except Exception as e:\n",
    "    print(f\"Error writing supercell POSCAR: {e}\")\n",
    "    exit(1)"
   ]
  }
 ],
 "metadata": {
  "kernelspec": {
   "display_name": "base",
   "language": "python",
   "name": "python3"
  },
  "language_info": {
   "codemirror_mode": {
    "name": "ipython",
    "version": 3
   },
   "file_extension": ".py",
   "mimetype": "text/x-python",
   "name": "python",
   "nbconvert_exporter": "python",
   "pygments_lexer": "ipython3",
   "version": "3.12.3"
  }
 },
 "nbformat": 4,
 "nbformat_minor": 2
}
