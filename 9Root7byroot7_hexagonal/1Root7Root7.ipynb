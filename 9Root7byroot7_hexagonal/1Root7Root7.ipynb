{
 "cells": [
  {
   "cell_type": "code",
   "execution_count": null,
   "id": "90bf30f3",
   "metadata": {},
   "outputs": [],
   "source": []
  },
  {
   "cell_type": "code",
   "execution_count": 1,
   "id": "cda8301a",
   "metadata": {},
   "outputs": [
    {
     "name": "stdout",
     "output_type": "stream",
     "text": [
      "Warning: The input structure doesn't appear to be hexagonal (a ≈ b, γ ≈ 120°)\n",
      "√7×√7 supercell created with 14 atoms using matrix type 1.\n",
      "Transformation matrix:\n",
      "[[ 1  3  0]\n",
      " [-3 -2  0]\n",
      " [ 0  0  1]]\n",
      "New POSCAR written to: POSCAR_root7_type1\n",
      "Warning: The input structure doesn't appear to be hexagonal (a ≈ b, γ ≈ 120°)\n",
      "√7×√7 supercell created with 14 atoms using matrix type 2.\n",
      "Transformation matrix:\n",
      "[[ 3  1  0]\n",
      " [-1  2  0]\n",
      " [ 0  0  1]]\n",
      "New POSCAR written to: POSCAR_root7_type2\n",
      "Warning: The input structure doesn't appear to be hexagonal (a ≈ b, γ ≈ 120°)\n",
      "√7×√7 supercell created with 14 atoms using matrix type 3.\n",
      "Transformation matrix:\n",
      "[[ 2 -1  0]\n",
      " [ 3  2  0]\n",
      " [ 0  0  1]]\n",
      "New POSCAR written to: POSCAR_root7_type3\n",
      "Warning: The input structure doesn't appear to be hexagonal (a ≈ b, γ ≈ 120°)\n",
      "√7×√7 supercell created with 14 atoms using matrix type 4.\n",
      "Transformation matrix:\n",
      "[[ 2  3  0]\n",
      " [-1  2  0]\n",
      " [ 0  0  1]]\n",
      "New POSCAR written to: POSCAR_root7_type4\n"
     ]
    }
   ],
   "source": [
    "import numpy as np\n",
    "from pymatgen.core.structure import Structure\n",
    "from pymatgen.io.vasp.inputs import Poscar\n",
    "\n",
    "def create_root7_supercell(poscar_file='POSCAR1.vasp', output_file='POSCAR_root7', matrix_type=1):\n",
    "    \"\"\"\n",
    "    Create a √7×√7 supercell from a hexagonal POSCAR file with different matrix options.\n",
    "    \n",
    "    Args:\n",
    "        poscar_file (str): Input POSCAR filename\n",
    "        output_file (str): Output POSCAR filename\n",
    "        matrix_type (int): Which transformation matrix to use (1-2)\n",
    "    \"\"\"\n",
    "    # Load the original structure\n",
    "    structure = Structure.from_file(poscar_file)\n",
    "    \n",
    "    # Verify the structure is hexagonal\n",
    "    a, b, c = structure.lattice.abc\n",
    "    alpha, beta, gamma = structure.lattice.angles\n",
    "    if not (abs(a - b) < 0.1 and abs(gamma - 120) < 1):\n",
    "        print(\"Warning: The input structure doesn't appear to be hexagonal (a ≈ b, γ ≈ 120°)\")\n",
    "    \n",
    "    # Define valid √7×√7 transformation matrices with determinant exactly 7\n",
    "    matrices = {\n",
    "        1: np.array([[1, 3, 0], [-3, -2, 0], [0, 0, 1]]),  # det = (1*-2) - (3*-3) = -2 + 9 = 7\n",
    "        2: np.array([[3, 1, 0], [-1, 2, 0], [0, 0, 1]]),   # det = (3*2) - (1*-1) = 6 + 1 = 7\n",
    "        3: np.array([[2, -1, 0], [3, 2, 0], [0, 0, 1]]),   # det = (2*2) - (-1*3) = 4 + 3 = 7\n",
    "        4: np.array([[2, 3, 0], [-1, 2, 0], [0, 0, 1]])    # det = (2*2) - (3*-1) = 4 + 3 = 7\n",
    "    }\n",
    "    \n",
    "    # Get the selected transformation matrix\n",
    "    if matrix_type not in matrices:\n",
    "        raise ValueError(\"matrix_type must be between 1 and 4\")\n",
    "    transformation = matrices[matrix_type]\n",
    "    \n",
    "    # Create the supercell\n",
    "    supercell = structure.copy()\n",
    "    supercell.make_supercell(transformation)\n",
    "    \n",
    "    # Write the new POSCAR\n",
    "    poscar = Poscar(supercell)\n",
    "    poscar.write_file(output_file)\n",
    "    \n",
    "    print(f\"√7×√7 supercell created with {len(supercell)} atoms using matrix type {matrix_type}.\")\n",
    "    print(f\"Transformation matrix:\\n{transformation}\")\n",
    "    print(f\"New POSCAR written to: {output_file}\")\n",
    "\n",
    "if __name__ == \"__main__\":\n",
    "    # Example usage with different matrix types\n",
    "    for i in range(1, 5):\n",
    "        create_root7_supercell(output_file=f'POSCAR_root7_type{i}', matrix_type=i)"
   ]
  }
 ],
 "metadata": {
  "kernelspec": {
   "display_name": "base",
   "language": "python",
   "name": "python3"
  },
  "language_info": {
   "codemirror_mode": {
    "name": "ipython",
    "version": 3
   },
   "file_extension": ".py",
   "mimetype": "text/x-python",
   "name": "python",
   "nbconvert_exporter": "python",
   "pygments_lexer": "ipython3",
   "version": "3.12.3"
  }
 },
 "nbformat": 4,
 "nbformat_minor": 5
}
