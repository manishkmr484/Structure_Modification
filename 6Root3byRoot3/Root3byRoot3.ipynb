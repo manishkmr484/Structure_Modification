{
 "cells": [
  {
   "cell_type": "code",
   "execution_count": null,
   "id": "ca196c59",
   "metadata": {},
   "outputs": [],
   "source": []
  },
  {
   "cell_type": "code",
   "execution_count": null,
   "id": "e0de39e3",
   "metadata": {},
   "outputs": [],
   "source": [
    "from pymatgen.core.structure import Structure\n",
    "from pymatgen.core.lattice import Lattice\n",
    "import numpy as np\n",
    "\n",
    "def create_root3_root3_supercell(primitive_poscar, output_poscar=\"POSCAR_root3\"):\n",
    "    \"\"\"\n",
    "    Create a √3×√3 supercell of graphene from a primitive unit cell POSCAR.\n",
    "    \n",
    "    Args:\n",
    "        primitive_poscar (str): Path to the input POSCAR file\n",
    "        output_poscar (str): Path for the output POSCAR file\n",
    "    \"\"\"\n",
    "    # Load the primitive structure\n",
    "    prim = Structure.from_file(primitive_poscar)\n",
    "    \n",
    "    # Verify it's graphene (2 atoms in hexagonal cell)\n",
    "    if len(prim) != 2:\n",
    "        raise ValueError(\"Input POSCAR doesn't appear to be primitive graphene (expected 2 atoms)\")\n",
    "    \n",
    "    # Get the primitive lattice vectors\n",
    "    a1, a2, a3 = prim.lattice.matrix\n",
    "    \n",
    "    # Create the √3×√3 supercell transformation matrix\n",
    "    # This transformation takes a1' = 2a1 + a2 and a2' = -a1 + a2\n",
    "    # Which gives a √3×√3 supercell rotated by 30 degrees\n",
    "    transformation = [[2, -1, 0], [1, 1, 0], [0, 0, 1]]\n",
    "    \n",
    "    # Create the supercell\n",
    "    supercell = prim.copy()\n",
    "    supercell.make_supercell(transformation)\n",
    "    \n",
    "    # Write the output POSCAR\n",
    "    supercell.to(fmt=\"poscar\", filename=output_poscar)\n",
    "    \n",
    "    print(f\"√3×√3 supercell created and saved to {output_poscar}\")\n",
    "    print(f\"Original cell: {len(prim)} atoms\")\n",
    "    print(f\"Supercell: {len(supercell)} atoms\")\n",
    "\n",
    "# Example usage\n",
    "if __name__ == \"__main__\":\n",
    "    input_poscar = \"POSCAR1.vasp\"  # Change this to your input POSCAR path\n",
    "    create_root3_root3_supercell(input_poscar)"
   ]
  }
 ],
 "metadata": {
  "language_info": {
   "name": "python"
  }
 },
 "nbformat": 4,
 "nbformat_minor": 5
}
